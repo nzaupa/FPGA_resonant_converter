{
 "cells": [
  {
   "cell_type": "markdown",
   "metadata": {},
   "source": [
    "# Transformer calculation\n",
    "\n",
    "This is a test to see if it will be possible to integrate an interactive interface to compute the values.\n",
    "\n",
    "In brief: \n",
    "\n",
    "   $$ L_m=\\underbrace{\\frac{\\mu_0\\mu_r A_e}{l_e}}_{\\text{ficed by the core}}{N^2} $$\n",
    "\n",
    "The value of permeability in vacuum is $\\mu_0=1.256\\times 10^{-6}\\;\\frac{N}{A^2}$, equivalently $\\mu_0=4\\pi\\times 10^{-7} \\frac{H}{m} = 4\\pi\\times 10^{-4} \\frac{H}{mm}$.\n",
    "\n",
    "> insert an interactive interface <https://ipywidgets.readthedocs.io/en/latest/examples/Widget%20List.html>\n",
    "\n"
   ]
  },
  {
   "cell_type": "code",
   "execution_count": 12,
   "metadata": {},
   "outputs": [
    {
     "data": {
      "application/vnd.jupyter.widget-view+json": {
       "model_id": "c997520af2014baab2075f216a618a89",
       "version_major": 2,
       "version_minor": 0
      },
      "text/plain": [
       "TwoByTwoLayout(children=(IntText(value=25, description='Top left', layout=Layout(grid_area='top-left', height=…"
      ]
     },
     "execution_count": 12,
     "metadata": {},
     "output_type": "execute_result"
    }
   ],
   "source": [
    "# Utils widgets\n",
    "from ipywidgets import Button, Layout, jslink, IntText, IntSlider\n",
    "\n",
    "def create_expanded_button(description, button_style):\n",
    "    return Button(description=description, button_style=button_style, layout=Layout(height='auto', width='auto'))\n",
    "\n",
    "top_left_button = create_expanded_button(\"Top left\", 'info')\n",
    "top_right_button = create_expanded_button(\"Top right\", 'success')\n",
    "bottom_left_button = create_expanded_button(\"Bottom left\", 'danger')\n",
    "bottom_right_button = create_expanded_button(\"Bottom right\", 'warning')\n",
    "\n",
    "from ipywidgets import TwoByTwoLayout\n",
    "\n",
    "top_left_text = IntText(description='Top left', layout=Layout(width='auto', height='auto'))\n",
    "top_right_text = IntText(description='Top right', layout=Layout(width='auto', height='auto'))\n",
    "bottom_left_slider = IntSlider(description='Bottom left', layout=Layout(width='auto', height='auto'))\n",
    "bottom_right_slider = IntSlider(description='Bottom right', layout=Layout(width='auto', height='auto'))\n",
    "\n",
    "app = TwoByTwoLayout(top_left=top_left_text, top_right=top_right_text,\n",
    "                     bottom_left=bottom_left_slider, bottom_right=bottom_right_slider)\n",
    "              \n",
    "link_left = jslink((app.top_left, 'value'), (app.bottom_left, 'value'))\n",
    "link_right = jslink((app.top_right, 'value'), (app.bottom_right, 'value'))\n",
    "app.bottom_right.value = 30\n",
    "app.top_left.value = 25\n",
    "app"
   ]
  },
  {
   "cell_type": "code",
   "execution_count": 13,
   "metadata": {},
   "outputs": [],
   "source": [
    "# # Utils widgets\n",
    "# from ipywidgets import Button, Layout, jslink, IntText, IntSlider\n",
    "\n",
    "# def create_expanded_button(description, button_style):\n",
    "#     return Button(description=description, button_style=button_style, layout=Layout(height='auto', width='auto'))\n",
    "\n",
    "# top_left_button = create_expanded_button(\"Top left\", 'info')\n",
    "# top_right_button = create_expanded_button(\"Top right\", 'success')\n",
    "# bottom_left_button = create_expanded_button(\"Bottom left\", 'danger')\n",
    "# bottom_right_button = create_expanded_button(\"Bottom right\", 'warning')\n",
    "\n",
    "# top_left_text = IntText(description='Top left', layout=Layout(width='auto', height='auto'))\n",
    "# top_right_text = IntText(description='Top right', layout=Layout(width='auto', height='auto'))\n",
    "# bottom_left_slider = IntSlider(description='Bottom left', layout=Layout(width='auto', height='auto'))\n",
    "# bottom_right_slider = IntSlider(description='Bottom right', layout=Layout(width='auto', height='auto'))\n",
    "\n",
    "# app = TwoByTwoLayout(top_left=top_left_text, top_right=top_right_text,\n",
    "#                      bottom_left=bottom_left_slider, bottom_right=bottom_right_slider)\n",
    "                     \n",
    "# link_left = jslink((app.top_left, 'value'), (app.bottom_left, 'value'))\n",
    "# link_right = jslink((app.top_right, 'value'), (app.bottom_right, 'value'))\n",
    "# app.bottom_right.value = 30\n",
    "# app.top_left.value = 25\n",
    "# app"
   ]
  },
  {
   "cell_type": "markdown",
   "metadata": {},
   "source": []
  }
 ],
 "metadata": {
  "kernelspec": {
   "display_name": "Python 3",
   "language": "python",
   "name": "python3"
  },
  "language_info": {
   "codemirror_mode": {
    "name": "ipython",
    "version": 3
   },
   "file_extension": ".py",
   "mimetype": "text/x-python",
   "name": "python",
   "nbconvert_exporter": "python",
   "pygments_lexer": "ipython3",
   "version": "3.11.4"
  },
  "orig_nbformat": 4
 },
 "nbformat": 4,
 "nbformat_minor": 2
}
